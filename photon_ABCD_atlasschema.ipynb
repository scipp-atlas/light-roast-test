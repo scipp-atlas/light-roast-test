{
 "cells": [
  {
   "cell_type": "code",
   "execution_count": 1,
   "id": "dfc7cdbf-cf03-4f80-948c-1c2c7884306e",
   "metadata": {},
   "outputs": [],
   "source": [
    "# this portion is done to ignore warnings from coffea for now\n",
    "from __future__ import annotations\n",
    "\n",
    "import os\n",
    "import json\n",
    "import time\n",
    "from pathlib import Path\n",
    "\n",
    "import awkward as ak\n",
    "import dask\n",
    "import dask_awkward as dak\n",
    "import parse\n",
    "from atlas_schema.methods import behavior as as_behavior\n",
    "from atlas_schema.schema import NtupleSchema\n",
    "from coffea import processor\n",
    "from coffea.analysis_tools import PackedSelection\n",
    "from coffea.dataset_tools import apply_to_fileset\n",
    "from dask.diagnostics import ProgressBar\n",
    "from dask.distributed import Client\n",
    "from dask_jobqueue.htcondor import HTCondorCluster\n",
    "from dask.distributed import LocalCluster\n",
    "from matplotlib import pyplot as plt\n",
    "import hist.dask as had\n",
    "\n",
    "fname_pattern = parse.compile(\n",
    "    \"user.{username:w}.{dsid:d}.{process:S}.{campaign:w}.v{version:.1f}_ANALYSIS.root\"\n",
    ")\n",
    "\n",
    "colors_dict = {\n",
    "    \"Znunu\": \"b\",\n",
    "    \"Wenu\": \"g\",\n",
    "    \"Wmunu\": \"r\",\n",
    "    \"Wtaunu_L\": \"c\",\n",
    "    \"Wtaunu_H\": \"m\",\n",
    "    \"Znunugamma\": \"y\",\n",
    "    \"Wmunugamma\": \"k\",\n",
    "    \"Wenugamma\": \"brown\",\n",
    "    \"Wtaunugamma\": \"pink\",\n",
    "    \"N2_100_N1_97_WB_signal\": \"rosybrown\",\n",
    "    \"Fake/Nonprompt\": \"lime\",\n",
    "}  #  'slategrey', 'blueviolet', 'crimson'\n"
   ]
  },
  {
   "cell_type": "markdown",
   "id": "6e1f4a3d-fec8-4e22-ad6c-364c2cf6cc81",
   "metadata": {},
   "source": [
    "Giordon says to do this:\n",
    "\n",
    "```\n",
    "AB = (events.photon.pT > 10.0) & (abs(events.photon.eta) < 1.8)\n",
    "photons_AB = events.photon[AB]\n",
    "leading_photon = ak.firsts(photons_AB)\n",
    "leading_photon_selected = leading_photon[(leading_photon.isolation == 1) & (leading_photon.tight == 1)]\n",
    "```"
   ]
  },
  {
   "cell_type": "code",
   "execution_count": 2,
   "id": "2bab73c1-a262-459b-b2f7-d80859abf41f",
   "metadata": {
    "editable": true,
    "slideshow": {
     "slide_type": ""
    },
    "tags": []
   },
   "outputs": [],
   "source": [
    "class MyProcessor(processor.ProcessorABC):\n",
    "    def __init__(self):\n",
    "        \n",
    "        self.h_ph_pt = (\n",
    "            had.Hist.new.StrCat([\"A_true\",\"B_true\",\"C_true\",\"D_true\",\n",
    "                                 \"A_fake\",\"B_fake\",\"C_fake\",\"D_fake\"], name=\"ABCD\")\n",
    "            .Regular(100, 0.0, 100.0, name=\"pt\", label=\"$pt_{\\\\gamma}$ [GeV]\")\n",
    "            .Int64()\n",
    "        )\n",
    "        \n",
    "        pass\n",
    "\n",
    "    def process(self, events):\n",
    "        ## TODO: remove this temporary fix when https://github.com/scikit-hep/vector/issues/498 is resolved\n",
    "        met_dict = {field: events.met[field] for field in events.met.fields}\n",
    "        met_dict[\"pt\"] = dak.zeros_like(events.met.met)\n",
    "        met_dict[\"eta\"] = dak.zeros_like(events.met.met)\n",
    "        events[\"met\"] = dak.zip(met_dict, with_name=\"MissingET\", behavior=as_behavior)\n",
    "\n",
    "        dataset = events.metadata[\"dataset\"]\n",
    "        \n",
    "        print(f\"processing {len(events)} events for {dataset}\")\n",
    "        # xs = events.metadata[\"xs\"]\n",
    "        # lum = events.metadata[\"luminosity\"]\n",
    "        # process = events.metadata[\"process\"]\n",
    "        # genFiltEff = events.metadata[\"genFiltEff\"]\n",
    "        # evt_count = ak.num(events, axis=0).compute()\n",
    "        # weights = (xs * genFiltEff * lum / evt_count) * np.ones(evt_count)\n",
    "\n",
    "        leptons = ak.concatenate((events.el, events.mu), axis=1)\n",
    "\n",
    "        # here are some selection cuts for something that looks like the signal region.\n",
    "        # the only thing that's different is the MET requirement, which I inverted to be\n",
    "        # met<250 instead of met>250, to make sure we don't accidentally unblind the SR\n",
    "        # and to give us some more stats while we study MC samples.\n",
    "        selections = {\n",
    "            \"met\": events.met.met < 250 * 1.0e3,\n",
    "            \"lepton_veto\": ak.num(leptons, axis=1) == 0,\n",
    "            \"leading_jet_pt\": ak.firsts(events.jet.pt) > 100 * 1.0e3,\n",
    "            \"min_dphi_jet_met\": ak.min(events.met.delta_phi(events.jet), axis=1) > 0.4,\n",
    "            \"bjet_veto\": ak.sum(events.jet.btag_select, axis=1) == 0,\n",
    "            \"vgamma_overlap\": events[\"in\"][\n",
    "                \"vgamma_overlap_7\"\n",
    "            ],\n",
    "        }\n",
    "        \n",
    "        selection = PackedSelection()\n",
    "        selection.add_multiple(selections)\n",
    "\n",
    "        SR=(selection.all())\n",
    "\n",
    "        presel_events=events[SR]\n",
    "\n",
    "        # photon object preselection\n",
    "        ph_preselection = (\n",
    "            (presel_events.ph.pt>10000) &\n",
    "            (presel_events.ph.select_baseline==1) &\n",
    "            ((presel_events.ph.isEM&0x45fc01)==0) &\n",
    "            (\n",
    "             (abs(presel_events.ph.eta)<1.37) | \n",
    "             ((abs(presel_events.ph.eta)>1.52) & \n",
    "              (abs(presel_events.ph.eta)<2.37))\n",
    "            ) &\n",
    "            (presel_events.ph.select_or_dR02Ph==1)\n",
    "        )\n",
    "\n",
    "        #AB = ph_preselection\n",
    "        #photons_AB = events.ph[AB]\n",
    "        #leading_photons = ak.firsts(photons_AB) # what is this?\n",
    "        #leading_photon_selected = leading_photon[(leading_photon.isolation == 1) & (leading_photon.tight == 1)]\n",
    "\n",
    "        ph_tight = (presel_events.ph[ph_preselection].select_tightID==1)\n",
    "        ph_iso   = (presel_events.ph[ph_preselection].select_tightIso==1)\n",
    "        ph_truth = ((presel_events.ph[ph_preselection].truthType != 0) & \n",
    "                    (presel_events.ph[ph_preselection].truthType != 16))\n",
    "\n",
    "        # nothing works, and error messages are useless.\n",
    "        #self.h_ph_pt.fill(ABCD=\"A_true\", pt=ak.firsts(presel_events.ph[ph_preselection & ph_tight & ~ph_iso &  ph_truth].pt) / 1.0e3)\n",
    "        #self.h_ph_pt.fill(ABCD=\"B_true\", pt=events[SR & ~ph_tight & ~ph_iso &  ph_truth].ph.pt / 1.0e3)\n",
    "        #self.h_ph_pt.fill(ABCD=\"C_true\", pt=events[SR &  ph_tight &  ph_iso &  ph_truth].ph.pt / 1.0e3)\n",
    "        #self.h_ph_pt.fill(ABCD=\"D_true\", pt=events[SR & ~ph_tight &  ph_iso &  ph_truth].ph.pt / 1.0e3)\n",
    "\n",
    "        #self.h_ph_pt.fill(ABCD=\"A_fake\", pt=events[SR &  ph_tight & ~ph_iso & ~ph_truth].ph.pt / 1.0e3)\n",
    "        #self.h_ph_pt.fill(ABCD=\"B_fake\", pt=events[SR & ~ph_tight & ~ph_iso & ~ph_truth].ph.pt / 1.0e3)\n",
    "        #self.h_ph_pt.fill(ABCD=\"C_fake\", pt=events[SR &  ph_tight &  ph_iso & ~ph_truth].ph.pt / 1.0e3)\n",
    "        #self.h_ph_pt.fill(ABCD=\"D_fake\", pt=events[SR & ~ph_tight &  ph_iso & ~ph_truth].ph.pt / 1.0e3)\n",
    "\n",
    "        return {\n",
    "            dataset: {\n",
    "                \"entries\": ak.num(events, axis=0),\n",
    "                \"ph_pt\": self.h_ph_pt,\n",
    "            }\n",
    "        }\n",
    "\n",
    "    def postprocess(self, accumulator):\n",
    "        pass"
   ]
  },
  {
   "cell_type": "code",
   "execution_count": 3,
   "id": "61d1f716-ab1b-4995-a39f-15b0f35b7e82",
   "metadata": {},
   "outputs": [
    {
     "name": "stderr",
     "output_type": "stream",
     "text": [
      "/home/mhance/.pixi/envs/default/lib/python3.12/site-packages/distributed/node.py:187: UserWarning: Port 8787 is already in use.\n",
      "Perhaps you already have a cluster running?\n",
      "Hosting the HTTP server on port 44105 instead\n",
      "  warnings.warn(\n"
     ]
    },
    {
     "name": "stdout",
     "output_type": "stream",
     "text": [
      "Applying to fileset\n"
     ]
    },
    {
     "name": "stderr",
     "output_type": "stream",
     "text": [
      "/home/mhance/.pixi/envs/default/lib/python3.12/site-packages/atlas_schema/schema.py:70: RuntimeWarning: Missing event_ids : ['dataTakingYear', 'lumiBlock', 'mcEventWeights']\n",
      "  self._form[\"fields\"], self._form[\"contents\"] = self._build_collections(\n"
     ]
    },
    {
     "name": "stdout",
     "output_type": "stream",
     "text": [
      "processing 872532 events for Znunugamma\n",
      "Beginning of dask.compute()\n",
      "Execution time:  2.8384811878204346\n",
      "Finished dask.compute\n",
      "{'Znunugamma': {'Znunugamma': {'entries': 872532, 'ph_pt': Hist(\n",
      "  StrCategory(['A_true', 'B_true', 'C_true', 'D_true', 'A_fake', 'B_fake', 'C_fake', 'D_fake'], name='ABCD'),\n",
      "  Regular(100, 0, 100, name='pt', label='$pt_{\\\\gamma}$ [GeV]'),\n",
      "  storage=Int64())}}}\n"
     ]
    }
   ],
   "source": [
    "start_time = time.time()\n",
    "\n",
    "my_processor = MyProcessor()\n",
    "\n",
    "# load in a bunch of datasets\n",
    "#dataset_runnable = json.loads(Path(\"af_v2.json\").read_text())\n",
    "dataset_runnable = json.loads(Path(\"af_v2_onefile.json\").read_text())\n",
    "\n",
    "cluster=None\n",
    "dataset_to_run=None\n",
    "\n",
    "can_submit_to_condor=False\n",
    "datasettag='Znunugamma'\n",
    "\n",
    "if can_submit_to_condor:\n",
    "    # To facilitate usage with HTCondor\n",
    "    cluster = HTCondorCluster(\n",
    "        log_directory=Path().cwd() / \".condor_logs\" / \"cutflows_v2\",\n",
    "        cores=4,\n",
    "        memory=\"4GB\",\n",
    "        disk=\"2GB\",\n",
    "    )\n",
    "    cluster.scale(jobs=100)\n",
    "\n",
    "    # if we're running over all samples, ensure that here\n",
    "    dataset_to_run=dataset_runnable\n",
    "else:\n",
    "    cluster=LocalCluster()\n",
    "    dataset_to_run={datasettag: dataset_runnable[datasettag]}\n",
    "\n",
    "\n",
    "client = Client(cluster)\n",
    "\n",
    "print(\"Applying to fileset\")\n",
    "out = apply_to_fileset(\n",
    "    my_processor,\n",
    "    dataset_to_run,\n",
    "    schemaclass=NtupleSchema,\n",
    ")\n",
    "\n",
    "print(\"Beginning of dask.compute()\")\n",
    "\n",
    "# Add progress bar for dask\n",
    "pbar = ProgressBar()\n",
    "pbar.register()\n",
    "\n",
    "(computed,) = dask.compute(out)\n",
    "end_time = time.time()\n",
    "\n",
    "print(\"Execution time: \", end_time - start_time)\n",
    "print(\"Finished dask.compute\")\n",
    "print(computed)"
   ]
  },
  {
   "cell_type": "code",
   "execution_count": 4,
   "id": "0a40e148-7e26-4cd8-bce0-44094c78a545",
   "metadata": {},
   "outputs": [
    {
     "name": "stderr",
     "output_type": "stream",
     "text": [
      "/home/mhance/.pixi/envs/default/lib/python3.12/site-packages/mplhep/utils.py:481: RuntimeWarning: All sumw are zero!  Cannot compute meaningful error bars\n",
      "  return np.abs(method_fcn(self.values, variances) - self.values)\n",
      "/home/mhance/.pixi/envs/default/lib/python3.12/site-packages/mplhep/utils.py:481: RuntimeWarning: All sumw are zero!  Cannot compute meaningful error bars\n",
      "  return np.abs(method_fcn(self.values, variances) - self.values)\n",
      "/home/mhance/.pixi/envs/default/lib/python3.12/site-packages/mplhep/utils.py:481: RuntimeWarning: All sumw are zero!  Cannot compute meaningful error bars\n",
      "  return np.abs(method_fcn(self.values, variances) - self.values)\n",
      "/home/mhance/.pixi/envs/default/lib/python3.12/site-packages/mplhep/utils.py:481: RuntimeWarning: All sumw are zero!  Cannot compute meaningful error bars\n",
      "  return np.abs(method_fcn(self.values, variances) - self.values)\n",
      "/home/mhance/.pixi/envs/default/lib/python3.12/site-packages/mplhep/utils.py:481: RuntimeWarning: All sumw are zero!  Cannot compute meaningful error bars\n",
      "  return np.abs(method_fcn(self.values, variances) - self.values)\n",
      "/home/mhance/.pixi/envs/default/lib/python3.12/site-packages/mplhep/utils.py:481: RuntimeWarning: All sumw are zero!  Cannot compute meaningful error bars\n",
      "  return np.abs(method_fcn(self.values, variances) - self.values)\n",
      "/home/mhance/.pixi/envs/default/lib/python3.12/site-packages/mplhep/utils.py:481: RuntimeWarning: All sumw are zero!  Cannot compute meaningful error bars\n",
      "  return np.abs(method_fcn(self.values, variances) - self.values)\n",
      "/home/mhance/.pixi/envs/default/lib/python3.12/site-packages/mplhep/utils.py:481: RuntimeWarning: All sumw are zero!  Cannot compute meaningful error bars\n",
      "  return np.abs(method_fcn(self.values, variances) - self.values)\n",
      "/tmp/ipykernel_6821/1372680832.py:4: UserWarning: Data has no positive values, and therefore cannot be log-scaled.\n",
      "  ax.set_yscale(\"log\")\n"
     ]
    },
    {
     "data": {
      "text/plain": [
       "<matplotlib.legend.Legend at 0x7f8bc6e25ee0>"
      ]
     },
     "execution_count": 4,
     "metadata": {},
     "output_type": "execute_result"
    },
    {
     "data": {
      "image/png": "[encoded data removed]",
      "text/plain": [
       "<Figure size 640x480 with 1 Axes>"
      ]
     },
     "metadata": {},
     "output_type": "display_data"
    }
   ],
   "source": [
    "# Plot histograms\n",
    "fig, ax = plt.subplots()\n",
    "computed[datasettag][datasettag][\"ph_pt\"].plot1d(ax=ax)\n",
    "ax.set_yscale(\"log\")\n",
    "ax.legend(title=\"Photon pT for $\\\\gamma + W\\\\rightarrow e \\\\nu$\")"
   ]
  },
  {
   "cell_type": "code",
   "execution_count": null,
   "id": "64f06e8d-cfad-4687-93f6-65f5a3b61a9f",
   "metadata": {},
   "outputs": [],
   "source": []
  },
  {
   "cell_type": "code",
   "execution_count": null,
   "id": "62526d5f-10ad-4902-b2a8-b007b5f9b475",
   "metadata": {},
   "outputs": [],
   "source": []
  }
 ],
 "metadata": {
  "kernelspec": {
   "display_name": "light-roast-kernel",
   "language": "python",
   "name": "light-roast-kernel"
  },
  "language_info": {
   "codemirror_mode": {
    "name": "ipython",
    "version": 3
   },
   "file_extension": ".py",
   "mimetype": "text/x-python",
   "name": "python",
   "nbconvert_exporter": "python",
   "pygments_lexer": "ipython3",
   "version": "3.12.9"
  }
 },
 "nbformat": 4,
 "nbformat_minor": 5
}
