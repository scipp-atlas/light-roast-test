{
 "cells": [
  {
   "cell_type": "code",
   "execution_count": 10,
   "id": "f0f60d99-7380-47f2-abd3-ef90a0308cdb",
   "metadata": {},
   "outputs": [
    {
     "name": "stdout",
     "output_type": "stream",
     "text": [
      "3.12.9 | packaged by conda-forge | (main, Feb 14 2025, 08:00:06) [GCC 13.3.0]\n"
     ]
    }
   ],
   "source": [
    "import sys\n",
    "print(sys.version)"
   ]
  },
  {
   "cell_type": "code",
   "execution_count": 11,
   "id": "7686aec9-65e9-41e2-b9fd-cbd376e300c4",
   "metadata": {},
   "outputs": [],
   "source": [
    "import uproot\n",
    "import awkward as ak\n",
    "import matplotlib as mpl\n",
    "import matplotlib.pyplot as plt\n",
    "import numpy as np\n",
    "import os #for looping over files in a directory\n",
    "import math\n",
    "import pandas as pd\n",
    "from matplotlib.ticker import ScalarFormatter\n",
    "import json\n",
    "from pathlib import Path\n",
    "import vector"
   ]
  },
  {
   "cell_type": "markdown",
   "id": "c9a79e19-96aa-46ca-94ca-4e077561eeda",
   "metadata": {},
   "source": [
    "First load in a file, same file as we use for the other notebooks:"
   ]
  },
  {
   "cell_type": "code",
   "execution_count": 12,
   "id": "1d71d1c2-2ffb-4767-aadc-d4b13cae9258",
   "metadata": {},
   "outputs": [],
   "source": [
    "dataset_runnable = json.loads(Path(\"af_v2_onefile.json\").read_text())\n",
    "#print(dataset_runnable)\n",
    "file_to_open=list(dataset_runnable['Znunugamma']['files'].keys())[0]\n",
    "tree_name=\"analysis\""
   ]
  },
  {
   "cell_type": "code",
   "execution_count": 13,
   "id": "26bd9d90-51fe-458c-8ae0-c5f6e1c47b39",
   "metadata": {},
   "outputs": [],
   "source": [
    "data=None\n",
    "with uproot.open(file_to_open) as f:\n",
    "    #print(\"Keys in the ROOT file:\", f.keys())\n",
    "    #tree = f['analysis;1']\n",
    "    #tree.show(\"name\")\n",
    "\n",
    "    tree_name = list(f.keys())[0]  # Get the first available tree\n",
    "    tree = f[tree_name]  # Load the tree\n",
    "\n",
    "    # Print only the variable names\n",
    "    #print(\"\\n\".join(tree.keys()))\n",
    "    data=tree.arrays()"
   ]
  },
  {
   "cell_type": "markdown",
   "id": "0781d29e-dda7-4d59-b3c7-03a8da7c2777",
   "metadata": {},
   "source": [
    "Now apply some basic event-level selections, and keep the subset of events passing all selections.  There are some debugging\n",
    "lines where I figure out how many events are left after different stages of selection, to compare with the eventloop example."
   ]
  },
  {
   "cell_type": "code",
   "execution_count": 148,
   "id": "73530135-ca86-462f-94c6-6386df3f3942",
   "metadata": {},
   "outputs": [
    {
     "name": "stdout",
     "output_type": "stream",
     "text": [
      "all             872532\n",
      "post mindphi    14790\n"
     ]
    }
   ],
   "source": [
    "met_mask=(data.met_met_NOSYS<250000.)\n",
    "el_mask=(ak.sum(data.el_pt_NOSYS,axis=1)==0)\n",
    "mu_mask=(ak.sum(data.mu_pt_NOSYS,axis=1)==0)\n",
    "vgam_mask=(data.in_vgamma_overlap_7>0)\n",
    "leadjet_mask=(ak.fill_none(ak.max(data.jet_pt_NOSYS,axis=1),0)>=100000.)\n",
    "btag_mask=(ak.sum(data.jet_select_btag_NOSYS,axis=1)==0)\n",
    "\n",
    "print(f\"all             {len(data)}\")\n",
    "\n",
    "# mindphi requirement\n",
    "met=vector.zip({'pt': data.met_met_NOSYS, 'eta': np.zeros(len(data)), 'phi': data.met_phi_NOSYS, 'mass': np.zeros(len(data))})\n",
    "jets = vector.zip({'pt': data.jet_pt_NOSYS, 'eta': data.jet_eta, 'phi': data.jet_phi, 'mass': data.jet_m_NOSYS})\n",
    "mindphi_mask=(ak.fill_none(ak.min(jets.deltaphi(met),axis=1),0)>0.4)\n",
    "\n",
    "presel_data=data[met_mask & el_mask & mu_mask & vgam_mask & leadjet_mask & btag_mask & mindphi_mask]\n",
    "print(f\"post mindphi    {len(presel_data.met_met_NOSYS)}\")"
   ]
  },
  {
   "cell_type": "markdown",
   "id": "a7fa12c1-c3ca-446d-998b-104023d5ff62",
   "metadata": {},
   "source": [
    "The cutflow matches the eventloop numbers.\n",
    "\n",
    "Now select events that have at least one \"good\" photon that passes basic quality criteria."
   ]
  },
  {
   "cell_type": "code",
   "execution_count": 149,
   "id": "0c3b0cf8-1e84-4bd8-8f97-b662d75eb19f",
   "metadata": {},
   "outputs": [
    {
     "name": "stdout",
     "output_type": "stream",
     "text": [
      "12072\n"
     ]
    }
   ],
   "source": [
    "ph_preselection=((presel_data.ph_pt_NOSYS>10000) & \n",
    "                 ((abs(presel_data.ph_eta)<1.37) | ((abs(presel_data.ph_eta)>1.52) & \n",
    "                                                    (abs(presel_data.ph_eta)<2.37))) &\n",
    "                 (presel_data.ph_select_or_dR02Ph_NOSYS==1) &\n",
    "                 (((presel_data.ph_isEM_NOSYS)&0x45fc01)==0) &\n",
    "                 (presel_data.ph_select_baseline_NOSYS==1)\n",
    "                )\n",
    "\n",
    "# keep events that have at least one photon that passes all photon preselection cuts\n",
    "ph_presel_data=presel_data[(ak.any(ph_preselection,axis=1)) & (ak.fill_none(ak.max(presel_data.ph_pt_NOSYS,axis=1),0)>10000.)]\n",
    "\n",
    "print(len(ph_presel_data))"
   ]
  },
  {
   "cell_type": "markdown",
   "id": "9b8bc6a3-cc23-49fd-833e-6bbc06a1fc28",
   "metadata": {},
   "source": [
    "This is also consistent with eventloop example.\n",
    "\n",
    "Now I'm going to try to apply all the photon cuts.  Ideally I'd like to be able to pick out a photon with some preselection criteria, and then categorize it as A/B/C/D/none based on whether it passes some other cuts.  Still working on that...."
   ]
  },
  {
   "cell_type": "code",
   "execution_count": 235,
   "id": "a1ba92d7-ff40-4d21-aebd-8760dbd3fddf",
   "metadata": {},
   "outputs": [
    {
     "name": "stdout",
     "output_type": "stream",
     "text": [
      "<Array [[True], [True], [...], ..., [True], [True]] type='12072 * var * bool'>\n",
      "<Array [{...}, {...}, {...}, ..., {...}, {...}] type='12072 * {actualIntera...'>\n",
      "[{actualInteractionsPerCrossing: 32.5, ...}, {...}, {...}, ..., {...}, {...}]\n",
      "[[1.02], [1.31], [-0.713, 1.17], [2.1], ..., [0.957], [-0.88], [1.98], [0.448]]\n",
      "[[True], [True], [True, True], [True], ..., [True], [True], [True], [True]]\n",
      "[[0], [0], [0, 1], [0], [0], [0], [0], ..., [0], [0], [0], [0], [0], [0], [0]]\n",
      "\n",
      "[[0], [0], [0], [0], [0], [0], [0], [0], ..., [0], [0], [0], [0], [0], [0], [0]]\n",
      "[[True], [True], [True, True], [True], ..., [True], [True], [True], [True]]\n",
      "[False, True]\n",
      "[1]\n"
     ]
    }
   ],
   "source": [
    "# define tight and loose cuts\n",
    "ph_preselection=((ph_presel_data.ph_pt_NOSYS>10000) & \n",
    "                 ((abs(ph_presel_data.ph_eta)<1.37) | ((abs(ph_presel_data.ph_eta)>1.52) & \n",
    "                                                       (abs(ph_presel_data.ph_eta)<2.37))) &\n",
    "                 (ph_presel_data.ph_select_or_dR02Ph_NOSYS==1) &\n",
    "                 ((ph_presel_data.ph_isEM_NOSYS&0x45fc01)==0) &\n",
    "                 (ph_presel_data.ph_select_baseline_NOSYS==1)\n",
    "                )\n",
    "\n",
    "print(repr(ph_preselection))\n",
    "print(repr(ph_presel_data))\n",
    "\n",
    "print(ph_presel_data[ak.any(ph_preselection, axis=1)])\n",
    "\n",
    "print(ph_presel_data.ph_eta[ph_preselection])\n",
    "\n",
    "print(ph_preselection)\n",
    "print(ak.argsort(ph_preselection))\n",
    "#indices=ak.argsort(ph_preselection)\n",
    "indices=ak.unflatten(ak.argmax(ph_preselection,axis=1),1)\n",
    "print()\n",
    "print(indices)\n",
    "#for i in range(100):\n",
    "#    print(f\"{i:2d} {indices[i]}\")\n",
    "\n",
    "print(ph_preselection)\n",
    "print(ph_preselection[25])\n",
    "print(indices[25])\n",
    "\n",
    "#print(ph_presel_data.ph_pt_NOSYS[indices])\n",
    "#print(ph_presel_data.ph_pt_NOSYS[indices][:,0])\n",
    "\n",
    "# maybe this kind of thing will be useful someday.\n",
    "#print(ak.where(ph_preselection,ph_presel_data.ph_select_tightID_NOSYS,0))\n",
    "\n",
    "#print(ak.firsts(ak.argsort(ph_preselection.ph_pt_NOSYS,ascending=False)))"
   ]
  },
  {
   "cell_type": "code",
   "execution_count": 236,
   "id": "bd796a46-4be6-447f-a251-d5f55be4fd43",
   "metadata": {},
   "outputs": [
    {
     "name": "stdout",
     "output_type": "stream",
     "text": [
      "[True, True, True, True, True, True, ..., True, True, True, False, True, False]\n",
      "12072\n",
      "[[0], [0], [1], [1], [1], [1], [1], [1], ..., [1], [1], [0], [0], [0], [1], [1]]\n",
      "[False, False, True, True, True, True, ..., False, False, False, True, True]\n",
      "[True, True, True, True, True, True, ..., True, True, True, True, True, True]\n",
      "[1.53e+04, 2.95e+04, 2.44e+05, 2.37e+05, ..., 1.61e+05, 2.12e+05, 2.36e+05]\n",
      "12072\n",
      "11428\n",
      "8838\n",
      "11944\n",
      "8461\n",
      "2915\n",
      "339\n",
      "229\n",
      "18\n",
      "34\n",
      "20\n",
      "56\n"
     ]
    }
   ],
   "source": [
    "ph_tight=(ak.firsts(ph_presel_data.ph_select_tightID_NOSYS[indices])>0)\n",
    "print(ph_tight)\n",
    "print(len(ph_tight))\n",
    "\n",
    "\n",
    "print(ph_presel_data.ph_select_tightIso_NOSYS[indices])\n",
    "ph_iso=(ak.firsts(ph_presel_data.ph_select_tightIso_NOSYS[indices])>0)\n",
    "print(ph_iso)\n",
    "\n",
    "ph_truth=((ak.firsts(ph_presel_data.ph_truthType[indices])!=16) & \n",
    "          (ak.firsts(ph_presel_data.ph_truthType[indices])!=0))\n",
    "print(ph_truth)\n",
    "\n",
    "print(ph_presel_data.ph_pt_NOSYS[indices][:,0])\n",
    "print(len(ph_presel_data.ph_pt_NOSYS[indices][:,0]))\n",
    "\n",
    "print(len(ph_presel_data.ph_pt_NOSYS[indices][ ph_tight ][:,0]))\n",
    "print(len(ph_presel_data.ph_pt_NOSYS[indices][ ph_iso   ][:,0]))\n",
    "print(len(ph_presel_data.ph_pt_NOSYS[indices][ ph_truth ][:,0]))\n",
    "\n",
    "print(len(ph_presel_data.ph_pt_NOSYS[indices][ ph_tight &  ph_iso &  ph_truth][:,0]))\n",
    "print(len(ph_presel_data.ph_pt_NOSYS[indices][ ph_tight & ~ph_iso &  ph_truth][:,0]))\n",
    "print(len(ph_presel_data.ph_pt_NOSYS[indices][~ph_tight &  ph_iso &  ph_truth][:,0]))\n",
    "print(len(ph_presel_data.ph_pt_NOSYS[indices][~ph_tight & ~ph_iso &  ph_truth][:,0]))\n",
    "print(len(ph_presel_data.ph_pt_NOSYS[indices][ ph_tight &  ph_iso & ~ph_truth][:,0]))\n",
    "print(len(ph_presel_data.ph_pt_NOSYS[indices][ ph_tight & ~ph_iso & ~ph_truth][:,0]))\n",
    "print(len(ph_presel_data.ph_pt_NOSYS[indices][~ph_tight &  ph_iso & ~ph_truth][:,0]))\n",
    "print(len(ph_presel_data.ph_pt_NOSYS[indices][~ph_tight & ~ph_iso & ~ph_truth][:,0]))\n",
    "#print(ak.num(ph_tight_iso_truth_events,axis=0))\n",
    "#print(ak.firsts(ph_tight_iso_truth_events.ph_pt_NOSYS))"
   ]
  },
  {
   "cell_type": "code",
   "execution_count": 128,
   "id": "0edb79b9-242e-40d7-935b-e72a80ea7f0c",
   "metadata": {},
   "outputs": [
    {
     "data": {
      "text/plain": [
       "12072"
      ]
     },
     "execution_count": 128,
     "metadata": {},
     "output_type": "execute_result"
    }
   ],
   "source": [
    "8175+2762+332+247+89+80+145+242"
   ]
  },
  {
   "cell_type": "markdown",
   "id": "5043215b-9a64-4ee2-83ce-14edf4af9a1d",
   "metadata": {},
   "source": [
    "The 8175 number doesn't match the eventloop example, it's off by a few hundred, something is wrong."
   ]
  },
  {
   "cell_type": "code",
   "execution_count": 130,
   "id": "1757d34b-c383-4559-b687-0c696988ca4c",
   "metadata": {},
   "outputs": [
    {
     "data": {
      "text/plain": [
       "11516"
      ]
     },
     "execution_count": 130,
     "metadata": {},
     "output_type": "execute_result"
    }
   ],
   "source": [
    "8175+2762+332+247"
   ]
  },
  {
   "cell_type": "code",
   "execution_count": 211,
   "id": "7a71752c-e6ae-46d3-a327-dc2336397f5e",
   "metadata": {},
   "outputs": [
    {
     "data": {
      "text/plain": [
       "['rho',\n",
       " 'phi',\n",
       " 'eta',\n",
       " 'tau',\n",
       " 'isEM',\n",
       " 'tight',\n",
       " 'iso',\n",
       " 'truthType',\n",
       " 'baseline',\n",
       " 'OR']"
      ]
     },
     "execution_count": 211,
     "metadata": {},
     "output_type": "execute_result"
    }
   ],
   "source": [
    "#photons = vector.zip({k.split('_')[1:]: ph_presel_data[k] for k in ak.fields(ph_presel_data) if k.startswith('ph_')})\n",
    "photons = vector.zip({'pt': ph_presel_data.ph_pt_NOSYS, 'eta': ph_presel_data.ph_eta, 'phi': ph_presel_data.ph_phi, 'mass': 0,\n",
    "                      'isEM': ph_presel_data.ph_isEM_NOSYS, 'tight': ph_presel_data.ph_select_tightID_NOSYS,\n",
    "                      'iso': ph_presel_data.ph_select_tightIso_NOSYS, 'truthType': ph_presel_data.ph_truthType,\n",
    "                      'baseline': ph_presel_data.ph_select_baseline_NOSYS, 'OR': ph_presel_data.ph_select_or_dR02Ph_NOSYS})\n",
    "ak.fields(photons)"
   ]
  },
  {
   "cell_type": "code",
   "execution_count": 214,
   "id": "bf4e9d1e-70a4-4759-bba3-388eab8e8041",
   "metadata": {},
   "outputs": [
    {
     "name": "stdout",
     "output_type": "stream",
     "text": [
      "[True, True, True, True, True, True, ..., True, True, True, False, True, False]\n",
      "12072\n",
      "[False, False, True, True, True, True, ..., False, False, False, True, True]\n",
      "[True, True, True, True, True, True, ..., True, True, True, True, True, True]\n",
      "[False, False, True, True, True, True, ..., False, False, False, True, False]\n",
      "[1.53e+04, 2.95e+04, 2.44e+05, 2.37e+05, ..., 1.61e+05, 2.12e+05, 2.36e+05]\n",
      "12072\n",
      "[2.44e+05, 2.37e+05, 2.18e+05, 2.05e+05, ..., 2.46e+05, 2.51e+05, 2.12e+05]\n",
      "8175\n",
      "False\n",
      "[[0], [0], [0, 1], [0], [0], [0], [0], ..., [0], [0], [0], [0], [0], [0], [0]]\n",
      " 0 [0]\n",
      " 1 [0]\n",
      " 2 [0, 1]\n",
      " 3 [0]\n",
      " 4 [0]\n",
      " 5 [0]\n",
      " 6 [0]\n",
      " 7 [0]\n",
      " 8 [0]\n",
      " 9 [0]\n",
      "10 [0]\n",
      "11 [0]\n",
      "12 [0]\n",
      "13 [0]\n",
      "14 [0]\n",
      "15 [0]\n",
      "16 [0]\n",
      "17 [0]\n",
      "18 [0]\n",
      "19 [0]\n",
      "20 [0]\n",
      "21 [0]\n",
      "22 [0]\n",
      "23 [0]\n",
      "24 [0]\n",
      "25 [0, 1]\n",
      "26 [0]\n",
      "27 [0]\n",
      "28 [0]\n",
      "29 [0, 1]\n",
      "30 [0]\n",
      "31 [0]\n",
      "32 [0]\n",
      "33 [0]\n",
      "34 [0]\n",
      "35 [0]\n",
      "36 [0]\n",
      "37 [0]\n",
      "38 [0]\n",
      "39 [0]\n",
      "40 [0]\n",
      "41 [0]\n",
      "42 [0]\n",
      "43 [0]\n",
      "44 [0]\n",
      "45 [0]\n",
      "46 [0]\n",
      "47 [0]\n",
      "48 [0]\n",
      "49 [0]\n",
      "50 [0]\n",
      "51 [0]\n",
      "52 [0]\n",
      "53 [0]\n",
      "54 [0]\n",
      "55 [0]\n",
      "56 [0]\n",
      "57 [0]\n",
      "58 [0]\n",
      "59 [0]\n",
      "60 [0]\n",
      "61 [1, 0]\n",
      "62 [0]\n",
      "63 [0]\n",
      "64 [0]\n",
      "65 [0]\n",
      "66 [0]\n",
      "67 [0]\n",
      "68 [0]\n",
      "69 [0]\n",
      "70 [0]\n",
      "71 [0]\n",
      "72 [0]\n",
      "73 [0]\n",
      "74 [0]\n",
      "75 [0]\n",
      "76 [0]\n",
      "77 [0]\n",
      "78 [0]\n",
      "79 [0]\n",
      "80 [0]\n",
      "81 [0]\n",
      "82 [0]\n",
      "83 [0]\n",
      "84 [0]\n",
      "85 [0]\n",
      "86 [0]\n",
      "87 [0]\n",
      "88 [0]\n",
      "89 [0]\n",
      "90 [0]\n",
      "91 [0]\n",
      "92 [0]\n",
      "93 [0]\n",
      "94 [0]\n",
      "95 [0]\n",
      "96 [0]\n",
      "97 [0]\n",
      "98 [0]\n",
      "99 [0]\n",
      "[1.69e+05, 3.21e+04]\n",
      "pt:    [1.69e+05, 3.21e+04]\n",
      "isEM   [2102272, 0]\n",
      "tight  [0, 1]\n",
      "iso    [0, 1]\n",
      "eta    [-1.17, 0.893]\n",
      "phi    [-1.66, -1.7]\n",
      "OR     [1, 1]\n",
      "truth  [16, 13]\n",
      "11106\n",
      "8741\n",
      "11517\n",
      "8175\n",
      "2762\n",
      "332\n",
      "248\n",
      "89\n",
      "80\n",
      "145\n",
      "241\n"
     ]
    }
   ],
   "source": [
    "ph_tight=(ak.firsts(photons[indices].tight)>0)\n",
    "print(ph_tight)\n",
    "print(len(ph_tight))\n",
    "ph_iso=(ak.firsts(photons[indices].iso)>0)\n",
    "print(ph_iso)\n",
    "ph_truth=((ak.firsts(photons[indices].truthType)!=16) & \n",
    "          (ak.firsts(photons[indices].truthType)!=0))\n",
    "print(ph_truth)\n",
    "\n",
    "ph_tight_iso_truth=(ph_tight & ph_iso & ph_truth)\n",
    "print(ph_tight_iso_truth)\n",
    "\n",
    "print(ph_presel_data.ph_pt_NOSYS[indices][:,0])\n",
    "print(len(ph_presel_data.ph_pt_NOSYS[indices][:,0]))\n",
    " \n",
    "\n",
    "print(ph_presel_data.ph_pt_NOSYS[indices][ph_tight_iso_truth][:,0])\n",
    "print(len(ph_presel_data.ph_pt_NOSYS[indices][ ph_tight_iso_truth][:,0]))\n",
    "\n",
    "print(None in ph_presel_data.ph_pt_NOSYS[indices][ ph_tight_iso_truth][:,0])\n",
    "\n",
    "\n",
    "print(indices)\n",
    "for i in range(100):\n",
    "    print(f\"{i:2d} {indices[i]}\")\n",
    "\n",
    "print(photons[25].pt)\n",
    "print(f\"pt:    {photons[25].pt}\")\n",
    "print(f\"isEM   {photons[25].isEM}\")\n",
    "print(f\"tight  {photons[25].tight}\")\n",
    "print(f\"iso    {photons[25].iso}\")\n",
    "print(f\"eta    {photons[25].eta}\")\n",
    "print(f\"phi    {photons[25].phi}\")\n",
    "print(f\"OR     {photons[25].OR}\")\n",
    "print(f\"truth  {photons[25].truthType}\")\n",
    "\n",
    "print(len(photons[indices][ ph_tight ][:,0]))\n",
    "print(len(photons[indices][ ph_iso   ][:,0]))\n",
    "print(len(photons[indices][ ph_truth ][:,0]))\n",
    "\n",
    "print(len(photons[indices][ ph_tight &  ph_iso &  ph_truth][:,0].pt))\n",
    "print(len(photons[indices][ ph_tight & ~ph_iso &  ph_truth][:,0].pt))\n",
    "print(len(photons[indices][~ph_tight &  ph_iso &  ph_truth][:,0].pt))\n",
    "print(len(photons[indices][~ph_tight & ~ph_iso &  ph_truth][:,0].pt))\n",
    "print(len(photons[indices][ ph_tight &  ph_iso & ~ph_truth][:,0].pt))\n",
    "print(len(photons[indices][ ph_tight & ~ph_iso & ~ph_truth][:,0].pt))\n",
    "print(len(photons[indices][~ph_tight &  ph_iso & ~ph_truth][:,0].pt))\n",
    "print(len(photons[indices][~ph_tight & ~ph_iso & ~ph_truth][:,0].pt))\n",
    "#print(ak.num(ph_tight_iso_truth_events,axis=0))\n",
    "#print(ak.firsts(ph_tight_iso_truth_events.ph_pt_NOSYS))"
   ]
  },
  {
   "cell_type": "code",
   "execution_count": 215,
   "id": "f7d7dfa5-76c9-41b5-bad7-192b2f8d1ce7",
   "metadata": {},
   "outputs": [
    {
     "name": "stdout",
     "output_type": "stream",
     "text": [
      "201400\n"
     ]
    }
   ],
   "source": [
    "print(f\"{2102272:x}\")"
   ]
  },
  {
   "cell_type": "code",
   "execution_count": 216,
   "id": "9b2edf4d-40ae-43ef-b232-e92744254825",
   "metadata": {},
   "outputs": [
    {
     "name": "stdout",
     "output_type": "stream",
     "text": [
      "1400\n"
     ]
    }
   ],
   "source": [
    "print(f\"{2102272&0x45fc01:x}\")"
   ]
  },
  {
   "cell_type": "code",
   "execution_count": null,
   "id": "6ccac19f-d8a3-49ea-b7b0-79655d576f0f",
   "metadata": {},
   "outputs": [],
   "source": []
  }
 ],
 "metadata": {
  "kernelspec": {
   "display_name": "light-roast-kernel",
   "language": "python",
   "name": "light-roast-kernel"
  },
  "language_info": {
   "codemirror_mode": {
    "name": "ipython",
    "version": 3
   },
   "file_extension": ".py",
   "mimetype": "text/x-python",
   "name": "python",
   "nbconvert_exporter": "python",
   "pygments_lexer": "ipython3",
   "version": "3.12.9"
  }
 },
 "nbformat": 4,
 "nbformat_minor": 5
}
