{
 "cells": [
  {
   "cell_type": "code",
   "execution_count": 1,
   "id": "f0f60d99-7380-47f2-abd3-ef90a0308cdb",
   "metadata": {},
   "outputs": [
    {
     "name": "stdout",
     "output_type": "stream",
     "text": [
      "3.8.10 (default, Nov 22 2023, 10:22:35) \n",
      "[GCC 9.4.0]\n"
     ]
    }
   ],
   "source": [
    "import sys\n",
    "print(sys.version)"
   ]
  },
  {
   "cell_type": "code",
   "execution_count": 2,
   "id": "7686aec9-65e9-41e2-b9fd-cbd376e300c4",
   "metadata": {},
   "outputs": [],
   "source": [
    "import uproot\n",
    "import awkward as ak\n",
    "import matplotlib as mpl\n",
    "import matplotlib.pyplot as plt\n",
    "import numpy as np\n",
    "import os #for looping over files in a directory\n",
    "import math\n",
    "import pandas as pd\n",
    "from matplotlib.ticker import ScalarFormatter\n",
    "import json\n",
    "from pathlib import Path\n",
    "import vector"
   ]
  },
  {
   "cell_type": "markdown",
   "id": "c9a79e19-96aa-46ca-94ca-4e077561eeda",
   "metadata": {},
   "source": [
    "First load in a file, same file as we use for the other notebooks:"
   ]
  },
  {
   "cell_type": "code",
   "execution_count": 192,
   "id": "1d71d1c2-2ffb-4767-aadc-d4b13cae9258",
   "metadata": {},
   "outputs": [],
   "source": [
    "dataset_runnable = json.loads(Path(\"af_v2_2_mc_onefile.json\").read_text())\n",
    "#print(dataset_runnable)\n",
    "file_to_open=list(dataset_runnable['Znunugamma']['files'].keys())[0]\n",
    "tree_name=\"analysis\""
   ]
  },
  {
   "cell_type": "code",
   "execution_count": 193,
   "id": "26bd9d90-51fe-458c-8ae0-c5f6e1c47b39",
   "metadata": {},
   "outputs": [],
   "source": [
    "data=None\n",
    "with uproot.open(file_to_open) as f:\n",
    "    #print(\"Keys in the ROOT file:\", f.keys())\n",
    "    #tree = f['analysis;1']\n",
    "    #tree.show(\"name\")\n",
    "\n",
    "    tree_name = list(f.keys())[0]  # Get the first available tree\n",
    "    tree = f[tree_name]  # Load the tree\n",
    "\n",
    "    # Print only the variable names\n",
    "    #print(\"\\n\".join(tree.keys()))\n",
    "    data=tree.arrays()"
   ]
  },
  {
   "cell_type": "markdown",
   "id": "0781d29e-dda7-4d59-b3c7-03a8da7c2777",
   "metadata": {},
   "source": [
    "Now apply some basic event-level selections, and keep the subset of events passing all selections.  There are some debugging\n",
    "lines where I figure out how many events are left after different stages of selection, to compare with the eventloop example."
   ]
  },
  {
   "cell_type": "code",
   "execution_count": 194,
   "id": "73530135-ca86-462f-94c6-6386df3f3942",
   "metadata": {},
   "outputs": [
    {
     "name": "stdout",
     "output_type": "stream",
     "text": [
      "all             508801\n",
      "post mindphi    116881\n"
     ]
    }
   ],
   "source": [
    "print(f\"all             {len(data)}\")\n",
    "\n",
    "met_mask=(data.met_met_NOSYS<250000.)\n",
    "el_mask=(ak.sum(data.el_pt_NOSYS,axis=1)==0)\n",
    "mu_mask=(ak.sum(data.mu_pt_NOSYS,axis=1)==0)\n",
    "vgam_mask=(data.in_vgamma_overlap_7>0)\n",
    "leadjet_mask=(ak.fill_none(ak.max(data.jet_pt_NOSYS,axis=1),0)>=100000.)\n",
    "btag_mask=(ak.sum(data.jet_select_btag_NOSYS,axis=1)==0)\n",
    "\n",
    "# mindphi requirement\n",
    "met=vector.zip({'pt': data.met_met_NOSYS, 'eta': np.zeros(len(data)), 'phi': data.met_phi_NOSYS, 'mass': np.zeros(len(data))})\n",
    "jets = vector.zip({'pt': data.jet_pt_NOSYS, 'eta': data.jet_eta, 'phi': data.jet_phi, 'mass': data.jet_m_NOSYS})\n",
    "mindphi_mask=(ak.fill_none(ak.min(abs(jets.deltaphi(met)),axis=1),0)>0.4)\n",
    "\n",
    "presel_data=data[met_mask & el_mask & mu_mask & vgam_mask & leadjet_mask & btag_mask & mindphi_mask]\n",
    "print(f\"post mindphi    {ak.num(presel_data,axis=0)}\")"
   ]
  },
  {
   "cell_type": "markdown",
   "id": "a7fa12c1-c3ca-446d-998b-104023d5ff62",
   "metadata": {},
   "source": [
    "The cutflow matches the eventloop numbers.\n",
    "\n",
    "Now select events that have at least one \"good\" photon that passes basic quality criteria."
   ]
  },
  {
   "cell_type": "code",
   "execution_count": 195,
   "id": "0c3b0cf8-1e84-4bd8-8f97-b662d75eb19f",
   "metadata": {},
   "outputs": [
    {
     "name": "stdout",
     "output_type": "stream",
     "text": [
      "97268\n"
     ]
    }
   ],
   "source": [
    "ph_preselection=((presel_data.ph_pt_NOSYS>10000) & \n",
    "                 ((abs(presel_data.ph_eta)<1.37) | ((abs(presel_data.ph_eta)>1.52) & \n",
    "                                                    (abs(presel_data.ph_eta)<2.37))) &\n",
    "                 (presel_data.ph_select_or_dR02Ph_NOSYS==1) &\n",
    "                 (((presel_data.ph_isEM_NOSYS)&0x45fc01)==0) &\n",
    "                 (presel_data.ph_select_baseline_NOSYS==1)\n",
    "                )\n",
    "\n",
    "# keep events that have at least one photon that passes all photon preselection cuts.\n",
    "# the second bit here is to avoid any events that have no photons.\n",
    "ph_presel_data=presel_data[(ak.any(ph_preselection,axis=1)) & (ak.fill_none(ak.max(presel_data.ph_pt_NOSYS,axis=1),0)>10000.)]\n",
    "\n",
    "print(len(ph_presel_data))"
   ]
  },
  {
   "cell_type": "markdown",
   "id": "9b8bc6a3-cc23-49fd-833e-6bbc06a1fc28",
   "metadata": {},
   "source": [
    "This yield is also consistent with eventloop example.\n",
    "\n",
    "Now I'm going to try to apply all the photon cuts.  The goal here is to:\n",
    "\n",
    "* Find the photon that passes preselection\n",
    "* Inspect that photon to see whether it's tight, isolated, truth-matched"
   ]
  },
  {
   "cell_type": "code",
   "execution_count": 196,
   "id": "9fe38c9c-35d5-4dde-a059-d0d07a3df4e8",
   "metadata": {},
   "outputs": [],
   "source": [
    "# define tight and loose cuts, now on the smaller data sample that only has good events\n",
    "ph_preselection=((ph_presel_data.ph_pt_NOSYS>10000) & \n",
    "                 ((abs(ph_presel_data.ph_eta)<1.37) | ((abs(ph_presel_data.ph_eta)>1.52) & \n",
    "                                                       (abs(ph_presel_data.ph_eta)<2.37))) &\n",
    "                 (ph_presel_data.ph_select_or_dR02Ph_NOSYS==1) &\n",
    "                 ((ph_presel_data.ph_isEM_NOSYS&0x45fc01)==0) &\n",
    "                 (ph_presel_data.ph_select_baseline_NOSYS==1)\n",
    "                )\n",
    "\n",
    "# get the index of the first preselected photon (which should be the leading preselected photon\n",
    "indices=ak.argmax(ph_preselection,axis=1,keepdims=True)"
   ]
  },
  {
   "cell_type": "markdown",
   "id": "1d4d3250-6f3a-4cb1-b0aa-bce3f30023ee",
   "metadata": {},
   "source": [
    "Now define the tight/isolated/truth cuts.  we only want to apply these cuts to the preselected photon."
   ]
  },
  {
   "cell_type": "code",
   "execution_count": 197,
   "id": "206ede8c-379f-41de-8654-1f3d570b4187",
   "metadata": {},
   "outputs": [],
   "source": [
    "ph_tight=(ak.firsts(ph_presel_data.ph_select_tightID_NOSYS[indices])>0)\n",
    "ph_iso=(ak.firsts(ph_presel_data.ph_select_tightIso_NOSYS[indices])>0)\n",
    "ph_truth=((ak.firsts(ph_presel_data.ph_truthType[indices])!=16) & \n",
    "          (ak.firsts(ph_presel_data.ph_truthType[indices])!=0))"
   ]
  },
  {
   "cell_type": "markdown",
   "id": "01689e84-f78e-4698-96eb-c85d47f5a6c5",
   "metadata": {},
   "source": [
    "Now check the yields."
   ]
  },
  {
   "cell_type": "code",
   "execution_count": 198,
   "id": "bd796a46-4be6-447f-a251-d5f55be4fd43",
   "metadata": {},
   "outputs": [
    {
     "name": "stdout",
     "output_type": "stream",
     "text": [
      "65414\n",
      "24384\n",
      "3464\n",
      "2221\n",
      "163\n",
      "598\n",
      "166\n",
      "858\n"
     ]
    }
   ],
   "source": [
    "print(len(ph_presel_data.ph_pt_NOSYS[indices][ ph_tight &  ph_iso &  ph_truth][:,0]))\n",
    "print(len(ph_presel_data.ph_pt_NOSYS[indices][ ph_tight & ~ph_iso &  ph_truth][:,0]))\n",
    "print(len(ph_presel_data.ph_pt_NOSYS[indices][~ph_tight &  ph_iso &  ph_truth][:,0]))\n",
    "print(len(ph_presel_data.ph_pt_NOSYS[indices][~ph_tight & ~ph_iso &  ph_truth][:,0]))\n",
    "print(len(ph_presel_data.ph_pt_NOSYS[indices][ ph_tight &  ph_iso & ~ph_truth][:,0]))\n",
    "print(len(ph_presel_data.ph_pt_NOSYS[indices][ ph_tight & ~ph_iso & ~ph_truth][:,0]))\n",
    "print(len(ph_presel_data.ph_pt_NOSYS[indices][~ph_tight &  ph_iso & ~ph_truth][:,0]))\n",
    "print(len(ph_presel_data.ph_pt_NOSYS[indices][~ph_tight & ~ph_iso & ~ph_truth][:,0]))"
   ]
  },
  {
   "cell_type": "markdown",
   "id": "7856e09f-6cf4-4cc2-a92c-b4ca740ae3ab",
   "metadata": {},
   "source": [
    "This is now consistent with the eventloop yields."
   ]
  },
  {
   "cell_type": "code",
   "execution_count": null,
   "id": "fc4fc079-255d-4ccd-994e-c7452a146001",
   "metadata": {},
   "outputs": [],
   "source": []
  },
  {
   "cell_type": "code",
   "execution_count": null,
   "id": "7bcecb11-1272-4e3f-b2f8-e3959cb251df",
   "metadata": {},
   "outputs": [],
   "source": []
  }
 ],
 "metadata": {
  "kernelspec": {
   "display_name": "Python 3.8",
   "language": "python",
   "name": "py38"
  },
  "language_info": {
   "codemirror_mode": {
    "name": "ipython",
    "version": 3
   },
   "file_extension": ".py",
   "mimetype": "text/x-python",
   "name": "python",
   "nbconvert_exporter": "python",
   "pygments_lexer": "ipython3",
   "version": "3.8.10"
  }
 },
 "nbformat": 4,
 "nbformat_minor": 5
}
