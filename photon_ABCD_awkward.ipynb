{
 "cells": [
  {
   "cell_type": "code",
   "execution_count": 1,
   "id": "f0f60d99-7380-47f2-abd3-ef90a0308cdb",
   "metadata": {},
   "outputs": [
    {
     "name": "stdout",
     "output_type": "stream",
     "text": [
      "3.12.9 | packaged by conda-forge | (main, Feb 14 2025, 08:00:06) [GCC 13.3.0]\n"
     ]
    }
   ],
   "source": [
    "import sys\n",
    "print(sys.version)"
   ]
  },
  {
   "cell_type": "code",
   "execution_count": 2,
   "id": "7686aec9-65e9-41e2-b9fd-cbd376e300c4",
   "metadata": {},
   "outputs": [],
   "source": [
    "import uproot\n",
    "import awkward as ak\n",
    "import matplotlib as mpl\n",
    "import matplotlib.pyplot as plt\n",
    "import numpy as np\n",
    "import os #for looping over files in a directory\n",
    "import math\n",
    "import pandas as pd\n",
    "from matplotlib.ticker import ScalarFormatter\n",
    "import json\n",
    "from pathlib import Path\n",
    "import vector"
   ]
  },
  {
   "cell_type": "markdown",
   "id": "c9a79e19-96aa-46ca-94ca-4e077561eeda",
   "metadata": {},
   "source": [
    "First load in a file, same file as we use for the other notebooks:"
   ]
  },
  {
   "cell_type": "code",
   "execution_count": 3,
   "id": "1d71d1c2-2ffb-4767-aadc-d4b13cae9258",
   "metadata": {},
   "outputs": [],
   "source": [
    "dataset_runnable = json.loads(Path(\"af_v2_onefile.json\").read_text())\n",
    "#print(dataset_runnable)\n",
    "file_to_open=list(dataset_runnable['Znunugamma']['files'].keys())[0]\n",
    "tree_name=\"analysis\""
   ]
  },
  {
   "cell_type": "code",
   "execution_count": 4,
   "id": "26bd9d90-51fe-458c-8ae0-c5f6e1c47b39",
   "metadata": {},
   "outputs": [],
   "source": [
    "data=None\n",
    "with uproot.open(file_to_open) as f:\n",
    "    #print(\"Keys in the ROOT file:\", f.keys())\n",
    "    #tree = f['analysis;1']\n",
    "    #tree.show(\"name\")\n",
    "\n",
    "    tree_name = list(f.keys())[0]  # Get the first available tree\n",
    "    tree = f[tree_name]  # Load the tree\n",
    "\n",
    "    # Print only the variable names\n",
    "    #print(\"\\n\".join(tree.keys()))\n",
    "    data=tree.arrays()"
   ]
  },
  {
   "cell_type": "markdown",
   "id": "0781d29e-dda7-4d59-b3c7-03a8da7c2777",
   "metadata": {},
   "source": [
    "Now apply some basic event-level selections, and keep the subset of events passing all selections.  There are some debugging\n",
    "lines where I figure out how many events are left after different stages of selection, to compare with the eventloop example."
   ]
  },
  {
   "cell_type": "code",
   "execution_count": 5,
   "id": "73530135-ca86-462f-94c6-6386df3f3942",
   "metadata": {},
   "outputs": [
    {
     "name": "stdout",
     "output_type": "stream",
     "text": [
      "all             872532\n",
      "before jets     266345\n",
      "{actualInteractionsPerCrossing: 37.5, averageInteractionsPerCrossing: 37.5, ...}\n",
      "None\n",
      "{actualInteractionsPerCrossing: 21.5, averageInteractionsPerCrossing: 21.5, ...}\n",
      "up to lead jet  260402\n",
      "pre mindphi     242954\n",
      "post mindphi    14793\n"
     ]
    }
   ],
   "source": [
    "met_mask=(data.met_met_NOSYS<250000.)\n",
    "el_mask=(ak.sum(data.el_pt_NOSYS,axis=1)==0)\n",
    "mu_mask=(ak.sum(data.mu_pt_NOSYS,axis=1)==0)\n",
    "vgam_mask=(data.in_vgamma_overlap_7>0)\n",
    "leadjet_mask=((ak.max(data.jet_pt_NOSYS,axis=1)>=100000.))\n",
    "njet_mask=(ak.count(data.jet_pt_NOSYS,axis=1)>0.)\n",
    "btag_mask=(ak.sum(data.jet_select_btag_NOSYS,axis=1)==0)\n",
    "\n",
    "print(f\"all             {len(data)}\")\n",
    "\n",
    "# mindphi requirement\n",
    "met=vector.zip({'pt': data.met_met_NOSYS, 'eta': np.zeros(len(data)), 'phi': data.met_phi_NOSYS, 'mass': np.zeros(len(data))})\n",
    "jets = vector.zip({'pt': data.jet_pt_NOSYS, 'eta': data.jet_eta, 'phi': data.jet_phi, 'mass': data.jet_m_NOSYS})\n",
    "mindphi_mask=(ak.min(jets.deltaphi(met),axis=1)>0.4)\n",
    "\n",
    "presel_data=data[met_mask & el_mask & mu_mask & vgam_mask]\n",
    "print(f\"before jets     {len(presel_data)}\")\n",
    "\n",
    "# there are some inconsistencies in event counts due to \"None\" records in the data file.\n",
    "# not sure how to deal with this, I can't get awkward to reject those events.\n",
    "if False:\n",
    "    print(\"------------------------\")\n",
    "    print(data[met_mask & el_mask & mu_mask & vgam_mask & ~leadjet_mask][1975])\n",
    "    print(data[met_mask & el_mask & mu_mask & vgam_mask & ~leadjet_mask][1976])\n",
    "    print(data[met_mask & el_mask & mu_mask & vgam_mask & ~leadjet_mask][1977])\n",
    "    print(\"------------------------\")\n",
    "      \n",
    "presel_data=data[met_mask & el_mask & mu_mask & vgam_mask & leadjet_mask & njet_mask]\n",
    "print(f\"up to lead jet  {ak.num(presel_data,axis=0)}\")\n",
    "\n",
    "presel_data=data[met_mask & el_mask & mu_mask & vgam_mask & leadjet_mask & btag_mask]# & mindphi_mask]\n",
    "print(f\"pre mindphi     {len(presel_data.met_met_NOSYS)}\")\n",
    "\n",
    "presel_data=data[met_mask & el_mask & mu_mask & vgam_mask & leadjet_mask & btag_mask & mindphi_mask]\n",
    "print(f\"post mindphi    {len(presel_data.met_met_NOSYS)}\")"
   ]
  },
  {
   "cell_type": "markdown",
   "id": "a7fa12c1-c3ca-446d-998b-104023d5ff62",
   "metadata": {},
   "source": [
    "There's a discrepancy of 3 events due to the `None` events.  Aside from that, the cutflow\n",
    "matches the eventloop numbers.\n",
    "\n",
    "Now select events that have at least one \"good\" photon that passes basic quality criteria."
   ]
  },
  {
   "cell_type": "code",
   "execution_count": 6,
   "id": "0c3b0cf8-1e84-4bd8-8f97-b662d75eb19f",
   "metadata": {},
   "outputs": [
    {
     "name": "stdout",
     "output_type": "stream",
     "text": [
      "12075\n"
     ]
    }
   ],
   "source": [
    "ph_preselection=((presel_data.ph_pt_NOSYS>10000) & \n",
    "                 ((abs(presel_data.ph_eta)<1.37) | ((abs(presel_data.ph_eta)>1.52) & \n",
    "                                                    (abs(presel_data.ph_eta)<2.37))) &\n",
    "                 (presel_data.ph_select_or_dR02Ph_NOSYS==1) &\n",
    "                 (((presel_data.ph_isEM_NOSYS)&0x45fc01)==0) &\n",
    "                 (presel_data.ph_select_baseline_NOSYS==1)\n",
    "                )\n",
    "# keep events that have at least one photon that passes all photon preselection cuts\n",
    "ph_presel_data=presel_data[ak.any(ph_preselection,axis=1)]\n",
    "\n",
    "print(len(ph_presel_data))"
   ]
  },
  {
   "cell_type": "markdown",
   "id": "9b8bc6a3-cc23-49fd-833e-6bbc06a1fc28",
   "metadata": {},
   "source": [
    "This is also inconsistent with the eventloop example by 3 events, because of the empty records that awkward is counting.\n",
    "\n",
    "Now I'm going to try to apply all the photon cuts.  Ideally I'd like to be able to pick out a photon with some preselection criteria, and then categorize it as A/B/C/D/none based on whether it passes some other cuts.  But I can't figure out how to apply the preselection cuts first, pick the \"good\" photon, and then apply the remaining cuts only to the good photon.  Suggestions welcome!  In the meantime, we'll just assume we can apply all cuts and look at the results."
   ]
  },
  {
   "cell_type": "code",
   "execution_count": 9,
   "id": "64bd7904-fc89-4651-b8d2-d7e1a1a70f24",
   "metadata": {},
   "outputs": [
    {
     "name": "stdout",
     "output_type": "stream",
     "text": [
      "8470\n",
      "[2.44e+05, 2.37e+05, 2.18e+05, 2.05e+05, ..., 2.46e+05, 2.51e+05, 2.12e+05]\n"
     ]
    }
   ],
   "source": [
    "# define tight and loose cuts\n",
    "ph_preselection=((ph_presel_data.ph_pt_NOSYS>10000) & \n",
    "                 ((abs(ph_presel_data.ph_eta)<1.37) | ((abs(ph_presel_data.ph_eta)>1.52) & \n",
    "                                                    (abs(ph_presel_data.ph_eta)<2.37))) &\n",
    "                 (ph_presel_data.ph_select_or_dR02Ph_NOSYS==1) &\n",
    "                 (((ph_presel_data.ph_isEM_NOSYS)&0x45fc01)==0) &\n",
    "                 (ph_presel_data.ph_select_baseline_NOSYS==1)\n",
    "                )\n",
    "\n",
    "# maybe this kind of thing will be useful someday.\n",
    "#print(ak.where(ph_preselection,ph_presel_data.ph_select_tightID_NOSYS,0))\n",
    "\n",
    "ph_tight=(ph_presel_data.ph_select_tightID_NOSYS==1)\n",
    "ph_iso=(ph_presel_data.ph_select_tightIso_NOSYS==1)\n",
    "ph_truth=((ph_presel_data.ph_truthType!=16) & (ph_presel_data.ph_truthType!=0))\n",
    "\n",
    "ph_tight_iso_truth_events=ph_presel_data[ak.any(ph_preselection & ph_tight & ph_iso & ph_truth,axis=1)]\n",
    "\n",
    "print(len(ph_tight_iso_truth_events))\n",
    "print(ak.firsts(ph_tight_iso_truth_events.ph_pt_NOSYS))"
   ]
  },
  {
   "cell_type": "markdown",
   "id": "5043215b-9a64-4ee2-83ce-14edf4af9a1d",
   "metadata": {},
   "source": [
    "The last line is the pT of the leading photon in events that have at least one photon that satisfies our criteria, it's not\n",
    "necessarily the pT of the photon that satisfies those criteria.  I'm sure there's a way to do this right."
   ]
  },
  {
   "cell_type": "code",
   "execution_count": null,
   "id": "0edb79b9-242e-40d7-935b-e72a80ea7f0c",
   "metadata": {},
   "outputs": [],
   "source": []
  }
 ],
 "metadata": {
  "kernelspec": {
   "display_name": "light-roast-kernel",
   "language": "python",
   "name": "light-roast-kernel"
  },
  "language_info": {
   "codemirror_mode": {
    "name": "ipython",
    "version": 3
   },
   "file_extension": ".py",
   "mimetype": "text/x-python",
   "name": "python",
   "nbconvert_exporter": "python",
   "pygments_lexer": "ipython3",
   "version": "3.12.9"
  }
 },
 "nbformat": 4,
 "nbformat_minor": 5
}
