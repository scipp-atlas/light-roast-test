{
 "cells": [
  {
   "cell_type": "code",
   "execution_count": 1,
   "id": "8155b5f0-43e8-4e12-8b15-76b37efcf35f",
   "metadata": {},
   "outputs": [
    {
     "name": "stdout",
     "output_type": "stream",
     "text": [
      "Welcome to JupyROOT 6.24/06\n"
     ]
    }
   ],
   "source": [
    "import ROOT as r"
   ]
  },
  {
   "cell_type": "code",
   "execution_count": 30,
   "id": "cd3c60da-e0e8-4e16-9fd5-af926e5b9fc3",
   "metadata": {},
   "outputs": [
    {
     "name": "stdout",
     "output_type": "stream",
     "text": [
      "1147\n"
     ]
    },
    {
     "name": "stderr",
     "output_type": "stream",
     "text": [
      "Error in <THashList::Delete>: A list is accessing an object (0x33e7e1e0) already deleted (list name = THashList)\n"
     ]
    }
   ],
   "source": [
    "f=r.TFile(\"/data/maclwong/Ben_Bkg_Samples/v2/user.bhodkins.700401.Znunugamma.mc20e.v2.0_ANALYSIS.root/user.bhodkins.42165174._000001.ANALYSIS.root\",\"RO\")\n",
    "t=f.Get(\"analysis\")\n",
    "\n",
    "passing=0\n",
    "for e in t:\n",
    "\n",
    "    met=e.met_met_NOSYS\n",
    "    met_phi=e.met_phi_NOSYS\n",
    "    met_tlv=r.TLorentzVector()\n",
    "    met_tlv.SetPtEtaPhiM(met,0,met_phi,0)\n",
    "    \n",
    "    if e.met_met_NOSYS<250000: continue\n",
    "    \n",
    "    nelectrons = len(e.el_pt_NOSYS)\n",
    "    nmuons     = len(e.mu_pt_NOSYS)\n",
    "    if (nelectrons+nmuons)>0: continue\n",
    "    \n",
    "    jets=[]\n",
    "    mindphijetsmet=999\n",
    "    btags=0\n",
    "    for j in range(len(e.jet_pt_NOSYS)):\n",
    "        tlv=r.TLorentzVector()\n",
    "        tlv.SetPtEtaPhiM(e.jet_pt_NOSYS[j],\n",
    "                         e.jet_eta[j],\n",
    "                         e.jet_phi[j],\n",
    "                         0)\n",
    "        jets.append(tlv)\n",
    "        mindphijetsmet=min(mindphijetsmet,tlv.DeltaPhi(met_tlv))\n",
    "        if ord(e.jet_btag_select[j])!=0: btags+=1\n",
    "    if jets[0].Pt()<100000: continue\n",
    "    if mindphijetsmet<0.4: continue\n",
    "    if btags>0: continue\n",
    "\n",
    "    photons=[]\n",
    "    mindrphjet=999\n",
    "    for p in range(len(e.ph_pt_NOSYS)):\n",
    "        tlv=r.TLorentzVector()\n",
    "        tlv.SetPtEtaPhiM(e.ph_pt_NOSYS[p],\n",
    "                         e.ph_eta[p],\n",
    "                         e.ph_phi[p],\n",
    "                         0)\n",
    "        photons.append(tlv)     \n",
    "        for j in jets:\n",
    "            mindrphjet=min(mindrphjet,tlv.DeltaPhi(j))\n",
    "    if mindrphjet<0.4: continue\n",
    "    \n",
    "    if photons[0].Pt()<10000: continue\n",
    "\n",
    "    if not e.in_vgamma_overlap_7: continue\n",
    "\n",
    "    \n",
    "    passing+=1\n",
    "print(passing)"
   ]
  },
  {
   "cell_type": "code",
   "execution_count": null,
   "id": "16d18320-ddce-46df-8ae6-3b2977a9aed3",
   "metadata": {},
   "outputs": [],
   "source": []
  }
 ],
 "metadata": {
  "kernelspec": {
   "display_name": "Python 3.6",
   "language": "python",
   "name": "py36"
  },
  "language_info": {
   "codemirror_mode": {
    "name": "ipython",
    "version": 3
   },
   "file_extension": ".py",
   "mimetype": "text/x-python",
   "name": "python",
   "nbconvert_exporter": "python",
   "pygments_lexer": "ipython3",
   "version": "3.6.15"
  }
 },
 "nbformat": 4,
 "nbformat_minor": 5
}
