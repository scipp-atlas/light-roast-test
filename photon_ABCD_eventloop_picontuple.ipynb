{
 "cells": [
  {
   "cell_type": "code",
   "execution_count": 13,
   "id": "8155b5f0-43e8-4e12-8b15-76b37efcf35f",
   "metadata": {},
   "outputs": [],
   "source": [
    "import ROOT as r\n",
    "import json\n",
    "\n",
    "from pathlib import Path\n",
    "import math"
   ]
  },
  {
   "cell_type": "code",
   "execution_count": 2,
   "id": "24107186-26c5-4e56-b675-790175dfb5f5",
   "metadata": {
    "editable": true,
    "slideshow": {
     "slide_type": ""
    },
    "tags": []
   },
   "outputs": [],
   "source": [
    "dataset_runnable = json.loads(Path(\"dataset_runnable/af_v3_marcus.json\").read_text())\n",
    "metadata=dataset_runnable['N2_220_N1_200_HH']['metadata']\n",
    "\n",
    "kFactor = metadata[\"kFactor\"]\n",
    "sumOfWeights = metadata[\"sum_of_weights\"]\n",
    "genFiltEff = metadata[\"genFiltEff\"]\n",
    "xs = metadata[\"crossSection\"]\n",
    "lum = metadata[\"luminosity\"]\n",
    "weight_norm_mc = xs*genFiltEff*kFactor*lum/sumOfWeights\n",
    "\n",
    "files_to_open=[\"/data/mhance/SUSY/ntuples/v3/output_N2_220_N1_200_HH.root\"]"
   ]
  },
  {
   "cell_type": "code",
   "execution_count": 3,
   "id": "0a46f6b1-862f-438e-8bcc-a0f96747fd81",
   "metadata": {
    "editable": true,
    "slideshow": {
     "slide_type": ""
    },
    "tags": []
   },
   "outputs": [],
   "source": [
    "h_baseline_pt=r.TH1F(\"baseline_pt\",\"baseline_pt\",10000,0,10000)\n",
    "\n",
    "h_istruth_it_ii_pt=r.TH1F(\"istruth_istight_isiso_pt\",\"istight_isiso\",10000,0,10000)\n",
    "h_istruth_it_ni_pt=r.TH1F(\"istruth_istight_noiso_pt\",\"istight_noiso\",10000,0,10000)\n",
    "h_istruth_nt_ii_pt=r.TH1F(\"istruth_notight_isiso_pt\",\"notight_isiso\",10000,0,10000)\n",
    "h_istruth_nt_ni_pt=r.TH1F(\"istruth_notight_noiso_pt\",\"notight_noiso\",10000,0,10000)\n",
    "\n",
    "h_notruth_it_ii_pt=r.TH1F(\"notruth_istight_isiso_pt\",\"istight_isiso\",10000,0,10000)\n",
    "h_notruth_it_ni_pt=r.TH1F(\"notruth_istight_noiso_pt\",\"istight_noiso\",10000,0,10000)\n",
    "h_notruth_nt_ii_pt=r.TH1F(\"notruth_notight_isiso_pt\",\"notight_isiso\",10000,0,10000)\n",
    "h_notruth_nt_ni_pt=r.TH1F(\"notruth_notight_noiso_pt\",\"notight_noiso\",10000,0,10000)"
   ]
  },
  {
   "cell_type": "code",
   "execution_count": 25,
   "id": "5265f8de-faff-44a5-b99c-64e0bf24bdd5",
   "metadata": {
    "editable": true,
    "scrolled": true,
    "slideshow": {
     "slide_type": ""
    },
    "tags": []
   },
   "outputs": [
    {
     "name": "stdout",
     "output_type": "stream",
     "text": [
      "Processing file /data/mhance/SUSY/ntuples/v3/output_N2_220_N1_200_HH.root, 1 of 1\n"
     ]
    }
   ],
   "source": [
    "eventcount=0\n",
    "premindphicut=0\n",
    "prejetscuts=0\n",
    "postleadjetptcut=0\n",
    "postmindphicut=0\n",
    "postphotonpresel=0\n",
    "\n",
    "postmetcut=0\n",
    "postphtight=0\n",
    "postlepveto=0\n",
    "\n",
    "cutflowevents=0\n",
    "cutflowsumw=0\n",
    "\n",
    "filesopened=0\n",
    "for file_to_open in files_to_open:\n",
    "    filesopened+=1\n",
    "    print(f\"Processing file {file_to_open}, {filesopened} of {len(files_to_open)}\")\n",
    "    f=r.TFile(file_to_open,\"RO\")\n",
    "    t=f.Get(\"picontuple\")\n",
    "    totalevents=t.GetEntriesFast()\n",
    "    for e in t:\n",
    "    \n",
    "        eventcount+=1\n",
    "        if eventcount%50000 == 0:\n",
    "            print(f\"Processed {eventcount:6d}/{totalevents} events\")\n",
    "        \n",
    "        #=================================================================\n",
    "        # preselection\n",
    "        #\n",
    "        met=e.met_met\n",
    "        met_phi=e.met_phi\n",
    "        met_tlv=r.TLorentzVector()\n",
    "        met_tlv.SetPtEtaPhiM(met,0,met_phi,0)\n",
    "    \n",
    "        # MET requirement, for now just look at low MET\n",
    "        if met<200000.: \n",
    "            continue\n",
    "\n",
    "        postmetcut+=1   \n",
    "\n",
    "        photon_tlv = r.TLorentzVector()\n",
    "        photon_tlv.SetPtEtaPhiM(e.ph_pt,\n",
    "                                e.ph_eta,\n",
    "                                e.ph_phi,\n",
    "                                0)\n",
    "        \n",
    "        postphtight+=1\n",
    "        prejetscuts+=1\n",
    "    \n",
    "        if e.j1_pt<150000.:\n",
    "            continue\n",
    "    \n",
    "        postleadjetptcut+=1\n",
    "\n",
    "        if e.nBTagJets>0:\n",
    "            continue\n",
    "    \n",
    "        premindphicut+=1\n",
    "        \n",
    "        if abs(e.mindPhiJetMet)<0.4: \n",
    "            continue\n",
    "    \n",
    "        postmindphicut+=1            \n",
    "\n",
    "        if (e.nElectrons + e.nMuons)>0:\n",
    "            continue\n",
    "        \n",
    "        postlepveto+=1\n",
    "\n",
    "        mT_A = r.TMath.Sqrt(2*photon_tlv.Pt()*met*(1.-r.TMath.Cos(photon_tlv.DeltaPhi(met_tlv))))\n",
    "\n",
    "        #print(mT_A)\n",
    "        if mT_A > 50000.:\n",
    "            continue\n",
    "\n",
    "        ## overlap removal for vgamma samples\n",
    "        #if not e.event_select_vgammaOverlap7: \n",
    "        #    continue\n",
    "        \n",
    "        h_baseline_pt.Fill(e.ph_pt/1000.)\n",
    "    \n",
    "        #=================================================================\n",
    "    \n",
    "        #=================================================================\n",
    "        # now we have the index of the photon to keep.  Now figure out if this is a truth-matched photon or not.\n",
    "        # will need to fix this whenever Giordon et al decide on a truth matching scheme.\n",
    "        #print(f\"{e.ph_truthType[photon_index]} {e.ph_truthOrigin[photon_index]} {e.ph_truthpdgId[photon_index]}\")\n",
    "        ph_truthmatch=((e.ph_truthType!=16) and (e.ph_truthType!=0))\n",
    "    \n",
    "        # the tight and isolated flags are easier:\n",
    "        ph_tight=(ord(e.ph_select_tightID)>0)\n",
    "        ph_iso  =(ord(e.ph_select_tightIso)>0)\n",
    "    \n",
    "        if ph_truthmatch:\n",
    "            if       ph_tight and     ph_iso: h_istruth_it_ii_pt.Fill(e.ph_pt/1000.)\n",
    "            elif     ph_tight and not ph_iso: h_istruth_it_ni_pt.Fill(e.ph_pt/1000.)\n",
    "            elif not ph_tight and     ph_iso: h_istruth_nt_ii_pt.Fill(e.ph_pt/1000.)\n",
    "            elif not ph_tight and not ph_iso: h_istruth_nt_ni_pt.Fill(e.ph_pt/1000.)\n",
    "        else:\n",
    "            if       ph_tight and     ph_iso: h_notruth_it_ii_pt.Fill(e.ph_pt/1000.)\n",
    "            elif     ph_tight and not ph_iso: h_notruth_it_ni_pt.Fill(e.ph_pt/1000.)\n",
    "            elif not ph_tight and     ph_iso: h_notruth_nt_ii_pt.Fill(e.ph_pt/1000.)\n",
    "            elif not ph_tight and not ph_iso: h_notruth_nt_ni_pt.Fill(e.ph_pt/1000.)\n",
    "\n",
    "        jetSF = e.weight_fjvt_effSF * e.weight_ftag_effSF_GN2v01_Continuous * e.weight_jvt_effSF \n",
    "        photonSF = e.ph_id_effSF_tightID * e.ph_id_effSF_tightIso\n",
    "        SF = jetSF * photonSF\n",
    "\n",
    "        \n",
    "        if ph_tight and ph_iso:    \n",
    "            cutflowevents += 1.\n",
    "            cutflowsumw += (e.weight_mc*e.weight_pileup*weight_norm_mc*SF)\n",
    "            #print(e.eventNumber)\n",
    "            #print(f\"{weight_norm_mc:.3f} {e.weight_mc:.3f} {e.weight_pileup:.3f} {SF:.3f} {(e.weight_mc*e.weight_pileup*weight_norm_mc*SF):.3f}\")\n",
    "        #================================================================="
   ]
  },
  {
   "cell_type": "code",
   "execution_count": 26,
   "id": "12ac8793-f89c-4b10-94da-96704aefa7f8",
   "metadata": {
    "editable": true,
    "slideshow": {
     "slide_type": ""
    },
    "tags": []
   },
   "outputs": [
    {
     "name": "stdout",
     "output_type": "stream",
     "text": [
      "total events  8741\n",
      "post met      8741\n",
      "post phtight  8741\n",
      "pre jets cuts 8741\n",
      "post leadjet  8134\n",
      "post btagveto 7509\n",
      "post mindphi  6654\n",
      "post lepveto  5819\n",
      "post photonpr 0\n",
      "baseline:     21993.0\n",
      "cutflow events:  1303.0\n",
      "cutflow sumw:    232.9457529147704\n",
      "A:  truth,  tight, !isolated: 3724.0\n",
      "B:  truth, !tight, !isolated: 924.0\n",
      "C:  truth,  tight,  isolated: 14786.0\n",
      "D:  truth, !tight,  isolated: 2110.0\n",
      "A: !truth,  tight, !isolated: 71.0\n",
      "B: !truth, !tight, !isolated: 193.0\n",
      "C: !truth,  tight,  isolated: 110.0\n",
      "D: !truth, !tight,  isolated: 75.0\n"
     ]
    }
   ],
   "source": [
    "print(f\"total events  {eventcount}\")\n",
    "print(f\"post met      {postmetcut}\")\n",
    "print(f\"post phtight  {postphtight}\")\n",
    "print(f\"pre jets cuts {prejetscuts}\") \n",
    "\n",
    "print(f\"post leadjet  {postleadjetptcut}\")\n",
    "print(f\"post btagveto {premindphicut}\")  \n",
    "print(f\"post mindphi  {postmindphicut}\")\n",
    "print(f\"post lepveto  {postlepveto}\")\n",
    "print(f\"post photonpr {postphotonpresel}\")\n",
    "print(f\"baseline:     {h_baseline_pt.GetSumOfWeights()}\")\n",
    "print(f\"cutflow events:  {cutflowevents}\")\n",
    "print(f\"cutflow sumw:    {cutflowsumw}\")\n",
    "\n",
    "print(f\"A:  truth,  tight, !isolated: {h_istruth_it_ni_pt.GetSumOfWeights()}\")\n",
    "print(f\"B:  truth, !tight, !isolated: {h_istruth_nt_ni_pt.GetSumOfWeights()}\")\n",
    "print(f\"C:  truth,  tight,  isolated: {h_istruth_it_ii_pt.GetSumOfWeights()}\")\n",
    "print(f\"D:  truth, !tight,  isolated: {h_istruth_nt_ii_pt.GetSumOfWeights()}\")\n",
    "\n",
    "print(f\"A: !truth,  tight, !isolated: {h_notruth_it_ni_pt.GetSumOfWeights()}\")\n",
    "print(f\"B: !truth, !tight, !isolated: {h_notruth_nt_ni_pt.GetSumOfWeights()}\")\n",
    "print(f\"C: !truth,  tight,  isolated: {h_notruth_it_ii_pt.GetSumOfWeights()}\")\n",
    "print(f\"D: !truth, !tight,  isolated: {h_notruth_nt_ii_pt.GetSumOfWeights()}\")"
   ]
  },
  {
   "cell_type": "code",
   "execution_count": null,
   "id": "8bd2aa36-4e66-4291-b857-61c1b6220b0c",
   "metadata": {},
   "outputs": [],
   "source": []
  }
 ],
 "metadata": {
  "kernelspec": {
   "display_name": "Python 3.6",
   "language": "python",
   "name": "py36"
  },
  "language_info": {
   "codemirror_mode": {
    "name": "ipython",
    "version": 3
   },
   "file_extension": ".py",
   "mimetype": "text/x-python",
   "name": "python",
   "nbconvert_exporter": "python",
   "pygments_lexer": "ipython3",
   "version": "3.6.15"
  }
 },
 "nbformat": 4,
 "nbformat_minor": 5
}
